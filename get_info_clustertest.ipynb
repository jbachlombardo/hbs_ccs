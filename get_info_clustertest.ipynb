{
 "cells": [
  {
   "cell_type": "code",
   "execution_count": 188,
   "metadata": {},
   "outputs": [],
   "source": [
    "import pandas as pd\n",
    "import numpy as np\n",
    "import matplotlib.pyplot as plt\n",
    "import matplotlib.lines as mlines\n",
    "from ast import literal_eval\n",
    "from sklearn.cluster import MeanShift, KMeans\n",
    "from sklearn.pipeline import Pipeline\n",
    "from sklearn.preprocessing import StandardScaler, scale\n",
    "from sklearn.manifold import TSNE\n",
    "from sklearn.metrics import silhouette_score, silhouette_samples\n",
    "import seaborn as sns"
   ]
  },
  {
   "cell_type": "code",
   "execution_count": 15,
   "metadata": {},
   "outputs": [],
   "source": [
    "pd.options.display.max_rows = 500"
   ]
  },
  {
   "cell_type": "code",
   "execution_count": 46,
   "metadata": {},
   "outputs": [],
   "source": [
    "schools = pd.read_csv('C:/Users/jbachlombardo/Documents/Community Colleges/Data/College scorecard/CollegeScorecard_Raw_Data/merged_all_scorecard_indicators_longitudinal_zips_fipsadj_RESET FROM HERE 051619_adjacent_counties.csv', index_col = 'UNITID')"
   ]
  },
  {
   "cell_type": "code",
   "execution_count": 47,
   "metadata": {},
   "outputs": [],
   "source": [
    "schools = schools[[x for x in schools.columns if 'Unnamed:' not in x]]"
   ]
  },
  {
   "cell_type": "code",
   "execution_count": 410,
   "metadata": {},
   "outputs": [],
   "source": [
    "usecols = pd.read_excel('C:/Users/jbachlombardo/Documents/Community Colleges/demos.xlsx', sheet_name = 'USECOLS')"
   ]
  },
  {
   "cell_type": "code",
   "execution_count": 411,
   "metadata": {},
   "outputs": [],
   "source": [
    "usecols = list(usecols['COL'])"
   ]
  },
  {
   "cell_type": "code",
   "execution_count": 413,
   "metadata": {},
   "outputs": [],
   "source": [
    "school_ids = [175643, 226107, 161688, 164313, 193326, 236887, 118912]"
   ]
  },
  {
   "cell_type": "code",
   "execution_count": 414,
   "metadata": {},
   "outputs": [],
   "source": [
    "schools = schools.reset_index()"
   ]
  },
  {
   "cell_type": "code",
   "execution_count": 415,
   "metadata": {},
   "outputs": [],
   "source": [
    "schools[schools['UNITID'].isin(school_ids)][usecols].T.to_csv('C:/Users/jbachlombardo/Documents/Community Colleges/demosccc.csv')"
   ]
  },
  {
   "cell_type": "code",
   "execution_count": 445,
   "metadata": {},
   "outputs": [],
   "source": [
    "schools[usecols[9:]].T.to_csv('C:/Users/jbachlombardo/Documents/Community Colleges/demosccc_avgs.csv')"
   ]
  },
  {
   "cell_type": "markdown",
   "metadata": {},
   "source": [
    "<b>CLUSTERING</b>"
   ]
  },
  {
   "cell_type": "code",
   "execution_count": 239,
   "metadata": {},
   "outputs": [],
   "source": [
    "clustertest = schools[usecols]"
   ]
  },
  {
   "cell_type": "code",
   "execution_count": 240,
   "metadata": {},
   "outputs": [
    {
     "name": "stderr",
     "output_type": "stream",
     "text": [
      "C:\\Users\\jbachlombardo\\AppData\\Local\\Continuum\\anaconda3\\lib\\site-packages\\ipykernel_launcher.py:1: SettingWithCopyWarning: \n",
      "A value is trying to be set on a copy of a slice from a DataFrame.\n",
      "Try using .loc[row_indexer,col_indexer] = value instead\n",
      "\n",
      "See the caveats in the documentation: http://pandas.pydata.org/pandas-docs/stable/indexing.html#indexing-view-versus-copy\n",
      "  \"\"\"Entry point for launching an IPython kernel.\n"
     ]
    }
   ],
   "source": [
    "clustertest['NUM ADJ SCHOOLS'] = clustertest['ADJ_SCHOOLS'].apply(lambda x: len(literal_eval(x)))"
   ]
  },
  {
   "cell_type": "code",
   "execution_count": 241,
   "metadata": {},
   "outputs": [],
   "source": [
    "def ignore_na_len(x) :\n",
    "    if x == 'xx' :\n",
    "        return 0\n",
    "    else :\n",
    "        return len(literal_eval(x))"
   ]
  },
  {
   "cell_type": "code",
   "execution_count": 242,
   "metadata": {},
   "outputs": [
    {
     "name": "stderr",
     "output_type": "stream",
     "text": [
      "C:\\Users\\jbachlombardo\\AppData\\Local\\Continuum\\anaconda3\\lib\\site-packages\\ipykernel_launcher.py:1: SettingWithCopyWarning: \n",
      "A value is trying to be set on a copy of a slice from a DataFrame.\n",
      "Try using .loc[row_indexer,col_indexer] = value instead\n",
      "\n",
      "See the caveats in the documentation: http://pandas.pydata.org/pandas-docs/stable/indexing.html#indexing-view-versus-copy\n",
      "  \"\"\"Entry point for launching an IPython kernel.\n"
     ]
    }
   ],
   "source": [
    "clustertest['NUM ADJ COUNTIES'] = clustertest['ADJ_COUNTIES_SCHOOLONLY'].fillna('xx').apply(ignore_na_len)"
   ]
  },
  {
   "cell_type": "code",
   "execution_count": 243,
   "metadata": {},
   "outputs": [],
   "source": [
    "clustertest = pd.concat([clustertest, pd.get_dummies(clustertest['LOCALE'], drop_first = True)], axis = 1)"
   ]
  },
  {
   "cell_type": "code",
   "execution_count": 244,
   "metadata": {},
   "outputs": [],
   "source": [
    "dropcols = ['ADJ_SCHOOLS', 'ADJ_COUNTIES_SCHOOLONLY', 'INSTNM', 'CITY', 'County', 'FIPS', 'STABBR', 'LOCALE']"
   ]
  },
  {
   "cell_type": "code",
   "execution_count": 245,
   "metadata": {},
   "outputs": [],
   "source": [
    "clustercols = [c for c in clustertest.set_index('UNITID').columns if c not in dropcols]"
   ]
  },
  {
   "cell_type": "code",
   "execution_count": 246,
   "metadata": {},
   "outputs": [],
   "source": [
    "cluster_test_set = clustertest.set_index('UNITID')[clustercols].reset_index()"
   ]
  },
  {
   "cell_type": "code",
   "execution_count": 247,
   "metadata": {},
   "outputs": [],
   "source": [
    "cluster_test_set = cluster_test_set.replace('PrivacySuppressed', np.nan)"
   ]
  },
  {
   "cell_type": "code",
   "execution_count": 248,
   "metadata": {},
   "outputs": [],
   "source": [
    "cluster_test_set = cluster_test_set.replace(np.inf, np.nan)"
   ]
  },
  {
   "cell_type": "code",
   "execution_count": 249,
   "metadata": {},
   "outputs": [],
   "source": [
    "for c in cluster_test_set :\n",
    "    cluster_test_set[c] = cluster_test_set[c].astype(float)\n",
    "    cluster_test_set[c] = cluster_test_set[c].fillna(cluster_test_set[c].median())"
   ]
  },
  {
   "cell_type": "code",
   "execution_count": 250,
   "metadata": {},
   "outputs": [],
   "source": [
    "labels = cluster_test_set['UNITID']\n",
    "X = cluster_test_set.iloc[:, 1:]"
   ]
  },
  {
   "cell_type": "markdown",
   "metadata": {},
   "source": [
    "<b>K-MEANS</b>"
   ]
  },
  {
   "cell_type": "code",
   "execution_count": 370,
   "metadata": {},
   "outputs": [],
   "source": [
    "k_model = Pipeline([('scale', StandardScaler()),\n",
    "             ('cluster', KMeans(n_clusters = 7))])"
   ]
  },
  {
   "cell_type": "code",
   "execution_count": 371,
   "metadata": {},
   "outputs": [],
   "source": [
    "k_groups = k_model.fit_predict(X)"
   ]
  },
  {
   "cell_type": "code",
   "execution_count": 372,
   "metadata": {},
   "outputs": [],
   "source": [
    "kgroups = cluster_test_set.copy()"
   ]
  },
  {
   "cell_type": "code",
   "execution_count": 373,
   "metadata": {},
   "outputs": [
    {
     "data": {
      "text/plain": [
       "0    216\n",
       "1    214\n",
       "2    156\n",
       "3    171\n",
       "4    401\n",
       "5    150\n",
       "6     41\n",
       "Name: Groups, dtype: int64"
      ]
     },
     "execution_count": 373,
     "metadata": {},
     "output_type": "execute_result"
    }
   ],
   "source": [
    "kgroups['Groups'] = k_groups\n",
    "kgroups['Groups'].value_counts().sort_index()"
   ]
  },
  {
   "cell_type": "code",
   "execution_count": 374,
   "metadata": {},
   "outputs": [],
   "source": [
    "k_corr = pd.concat([kgroups, pd.get_dummies(kgroups['Groups'])], axis = 1)"
   ]
  },
  {
   "cell_type": "code",
   "execution_count": 375,
   "metadata": {},
   "outputs": [],
   "source": [
    "k_corr = k_corr.drop(['Groups', 'UNITID'], axis = 1)"
   ]
  },
  {
   "cell_type": "code",
   "execution_count": 376,
   "metadata": {},
   "outputs": [
    {
     "data": {
      "text/html": [
       "<div>\n",
       "<style scoped>\n",
       "    .dataframe tbody tr th:only-of-type {\n",
       "        vertical-align: middle;\n",
       "    }\n",
       "\n",
       "    .dataframe tbody tr th {\n",
       "        vertical-align: top;\n",
       "    }\n",
       "\n",
       "    .dataframe thead th {\n",
       "        text-align: right;\n",
       "    }\n",
       "</style>\n",
       "<table border=\"1\" class=\"dataframe\">\n",
       "  <thead>\n",
       "    <tr style=\"text-align: right;\">\n",
       "      <th></th>\n",
       "      <th>INEXPFTE</th>\n",
       "      <th>AVGFACSAL</th>\n",
       "      <th>PFTFAC</th>\n",
       "      <th>TUITIONFEE_IN</th>\n",
       "      <th>TUITIONFEE_OUT</th>\n",
       "      <th>Deg_created_5yrs</th>\n",
       "      <th>Deg_removed_5yr</th>\n",
       "      <th>Deg_created_10yrs</th>\n",
       "      <th>Deg_removed_10yr</th>\n",
       "      <th>Deg_created_15yrs</th>\n",
       "      <th>...</th>\n",
       "      <th>13.0</th>\n",
       "      <th>21.0</th>\n",
       "      <th>22.0</th>\n",
       "      <th>23.0</th>\n",
       "      <th>31.0</th>\n",
       "      <th>32.0</th>\n",
       "      <th>33.0</th>\n",
       "      <th>41.0</th>\n",
       "      <th>42.0</th>\n",
       "      <th>43.0</th>\n",
       "    </tr>\n",
       "    <tr>\n",
       "      <th>Groups</th>\n",
       "      <th></th>\n",
       "      <th></th>\n",
       "      <th></th>\n",
       "      <th></th>\n",
       "      <th></th>\n",
       "      <th></th>\n",
       "      <th></th>\n",
       "      <th></th>\n",
       "      <th></th>\n",
       "      <th></th>\n",
       "      <th></th>\n",
       "      <th></th>\n",
       "      <th></th>\n",
       "      <th></th>\n",
       "      <th></th>\n",
       "      <th></th>\n",
       "      <th></th>\n",
       "      <th></th>\n",
       "      <th></th>\n",
       "      <th></th>\n",
       "      <th></th>\n",
       "    </tr>\n",
       "  </thead>\n",
       "  <tbody>\n",
       "    <tr>\n",
       "      <th>0</th>\n",
       "      <td>5520.995370</td>\n",
       "      <td>8100.509259</td>\n",
       "      <td>0.422229</td>\n",
       "      <td>2353.611111</td>\n",
       "      <td>7852.370370</td>\n",
       "      <td>7.467593</td>\n",
       "      <td>16.402778</td>\n",
       "      <td>9.888889</td>\n",
       "      <td>15.847222</td>\n",
       "      <td>13.773148</td>\n",
       "      <td>...</td>\n",
       "      <td>0.083333</td>\n",
       "      <td>0.347222</td>\n",
       "      <td>0.041667</td>\n",
       "      <td>0.013889</td>\n",
       "      <td>0.000000</td>\n",
       "      <td>0.032407</td>\n",
       "      <td>0.018519</td>\n",
       "      <td>0.018519</td>\n",
       "      <td>0.004630</td>\n",
       "      <td>0.000000</td>\n",
       "    </tr>\n",
       "    <tr>\n",
       "      <th>1</th>\n",
       "      <td>5848.285047</td>\n",
       "      <td>6205.976636</td>\n",
       "      <td>0.515816</td>\n",
       "      <td>3655.214953</td>\n",
       "      <td>8436.359813</td>\n",
       "      <td>8.710280</td>\n",
       "      <td>12.182243</td>\n",
       "      <td>11.929907</td>\n",
       "      <td>10.130841</td>\n",
       "      <td>15.116822</td>\n",
       "      <td>...</td>\n",
       "      <td>0.144860</td>\n",
       "      <td>0.102804</td>\n",
       "      <td>0.046729</td>\n",
       "      <td>0.028037</td>\n",
       "      <td>0.018692</td>\n",
       "      <td>0.088785</td>\n",
       "      <td>0.042056</td>\n",
       "      <td>0.163551</td>\n",
       "      <td>0.037383</td>\n",
       "      <td>0.000000</td>\n",
       "    </tr>\n",
       "    <tr>\n",
       "      <th>2</th>\n",
       "      <td>7518.974359</td>\n",
       "      <td>6624.903846</td>\n",
       "      <td>0.579662</td>\n",
       "      <td>4719.006410</td>\n",
       "      <td>7678.756410</td>\n",
       "      <td>6.698718</td>\n",
       "      <td>9.435897</td>\n",
       "      <td>8.634615</td>\n",
       "      <td>8.429487</td>\n",
       "      <td>11.089744</td>\n",
       "      <td>...</td>\n",
       "      <td>0.141026</td>\n",
       "      <td>0.096154</td>\n",
       "      <td>0.012821</td>\n",
       "      <td>0.025641</td>\n",
       "      <td>0.019231</td>\n",
       "      <td>0.032051</td>\n",
       "      <td>0.282051</td>\n",
       "      <td>0.153846</td>\n",
       "      <td>0.032051</td>\n",
       "      <td>0.025641</td>\n",
       "    </tr>\n",
       "    <tr>\n",
       "      <th>3</th>\n",
       "      <td>10441.532164</td>\n",
       "      <td>6316.222222</td>\n",
       "      <td>0.407100</td>\n",
       "      <td>4004.631579</td>\n",
       "      <td>7701.140351</td>\n",
       "      <td>0.877193</td>\n",
       "      <td>2.187135</td>\n",
       "      <td>1.842105</td>\n",
       "      <td>2.286550</td>\n",
       "      <td>2.514620</td>\n",
       "      <td>...</td>\n",
       "      <td>0.070175</td>\n",
       "      <td>0.274854</td>\n",
       "      <td>0.035088</td>\n",
       "      <td>0.052632</td>\n",
       "      <td>0.046784</td>\n",
       "      <td>0.128655</td>\n",
       "      <td>0.064327</td>\n",
       "      <td>0.204678</td>\n",
       "      <td>0.046784</td>\n",
       "      <td>0.005848</td>\n",
       "    </tr>\n",
       "    <tr>\n",
       "      <th>4</th>\n",
       "      <td>6504.491272</td>\n",
       "      <td>5890.569825</td>\n",
       "      <td>0.518578</td>\n",
       "      <td>3515.137157</td>\n",
       "      <td>7603.533666</td>\n",
       "      <td>5.860349</td>\n",
       "      <td>10.384040</td>\n",
       "      <td>8.396509</td>\n",
       "      <td>9.725686</td>\n",
       "      <td>10.423940</td>\n",
       "      <td>...</td>\n",
       "      <td>0.109726</td>\n",
       "      <td>0.082294</td>\n",
       "      <td>0.024938</td>\n",
       "      <td>0.022444</td>\n",
       "      <td>0.027431</td>\n",
       "      <td>0.152120</td>\n",
       "      <td>0.114713</td>\n",
       "      <td>0.226933</td>\n",
       "      <td>0.077307</td>\n",
       "      <td>0.047382</td>\n",
       "    </tr>\n",
       "    <tr>\n",
       "      <th>5</th>\n",
       "      <td>7891.300000</td>\n",
       "      <td>6133.920000</td>\n",
       "      <td>0.437141</td>\n",
       "      <td>3654.766667</td>\n",
       "      <td>7434.566667</td>\n",
       "      <td>2.480000</td>\n",
       "      <td>4.286667</td>\n",
       "      <td>3.840000</td>\n",
       "      <td>4.353333</td>\n",
       "      <td>4.526667</td>\n",
       "      <td>...</td>\n",
       "      <td>0.080000</td>\n",
       "      <td>0.160000</td>\n",
       "      <td>0.040000</td>\n",
       "      <td>0.046667</td>\n",
       "      <td>0.006667</td>\n",
       "      <td>0.133333</td>\n",
       "      <td>0.120000</td>\n",
       "      <td>0.173333</td>\n",
       "      <td>0.073333</td>\n",
       "      <td>0.033333</td>\n",
       "    </tr>\n",
       "    <tr>\n",
       "      <th>6</th>\n",
       "      <td>6004.878049</td>\n",
       "      <td>6532.365854</td>\n",
       "      <td>0.398607</td>\n",
       "      <td>5715.585366</td>\n",
       "      <td>12565.926829</td>\n",
       "      <td>2.731707</td>\n",
       "      <td>4.317073</td>\n",
       "      <td>4.024390</td>\n",
       "      <td>4.024390</td>\n",
       "      <td>6.780488</td>\n",
       "      <td>...</td>\n",
       "      <td>0.000000</td>\n",
       "      <td>0.000000</td>\n",
       "      <td>0.024390</td>\n",
       "      <td>0.000000</td>\n",
       "      <td>0.000000</td>\n",
       "      <td>0.146341</td>\n",
       "      <td>0.024390</td>\n",
       "      <td>0.170732</td>\n",
       "      <td>0.000000</td>\n",
       "      <td>0.024390</td>\n",
       "    </tr>\n",
       "  </tbody>\n",
       "</table>\n",
       "<p>7 rows × 103 columns</p>\n",
       "</div>"
      ],
      "text/plain": [
       "            INEXPFTE    AVGFACSAL    PFTFAC  TUITIONFEE_IN  TUITIONFEE_OUT  \\\n",
       "Groups                                                                       \n",
       "0        5520.995370  8100.509259  0.422229    2353.611111     7852.370370   \n",
       "1        5848.285047  6205.976636  0.515816    3655.214953     8436.359813   \n",
       "2        7518.974359  6624.903846  0.579662    4719.006410     7678.756410   \n",
       "3       10441.532164  6316.222222  0.407100    4004.631579     7701.140351   \n",
       "4        6504.491272  5890.569825  0.518578    3515.137157     7603.533666   \n",
       "5        7891.300000  6133.920000  0.437141    3654.766667     7434.566667   \n",
       "6        6004.878049  6532.365854  0.398607    5715.585366    12565.926829   \n",
       "\n",
       "        Deg_created_5yrs  Deg_removed_5yr  Deg_created_10yrs  \\\n",
       "Groups                                                         \n",
       "0               7.467593        16.402778           9.888889   \n",
       "1               8.710280        12.182243          11.929907   \n",
       "2               6.698718         9.435897           8.634615   \n",
       "3               0.877193         2.187135           1.842105   \n",
       "4               5.860349        10.384040           8.396509   \n",
       "5               2.480000         4.286667           3.840000   \n",
       "6               2.731707         4.317073           4.024390   \n",
       "\n",
       "        Deg_removed_10yr  Deg_created_15yrs    ...         13.0      21.0  \\\n",
       "Groups                                         ...                          \n",
       "0              15.847222          13.773148    ...     0.083333  0.347222   \n",
       "1              10.130841          15.116822    ...     0.144860  0.102804   \n",
       "2               8.429487          11.089744    ...     0.141026  0.096154   \n",
       "3               2.286550           2.514620    ...     0.070175  0.274854   \n",
       "4               9.725686          10.423940    ...     0.109726  0.082294   \n",
       "5               4.353333           4.526667    ...     0.080000  0.160000   \n",
       "6               4.024390           6.780488    ...     0.000000  0.000000   \n",
       "\n",
       "            22.0      23.0      31.0      32.0      33.0      41.0      42.0  \\\n",
       "Groups                                                                         \n",
       "0       0.041667  0.013889  0.000000  0.032407  0.018519  0.018519  0.004630   \n",
       "1       0.046729  0.028037  0.018692  0.088785  0.042056  0.163551  0.037383   \n",
       "2       0.012821  0.025641  0.019231  0.032051  0.282051  0.153846  0.032051   \n",
       "3       0.035088  0.052632  0.046784  0.128655  0.064327  0.204678  0.046784   \n",
       "4       0.024938  0.022444  0.027431  0.152120  0.114713  0.226933  0.077307   \n",
       "5       0.040000  0.046667  0.006667  0.133333  0.120000  0.173333  0.073333   \n",
       "6       0.024390  0.000000  0.000000  0.146341  0.024390  0.170732  0.000000   \n",
       "\n",
       "            43.0  \n",
       "Groups            \n",
       "0       0.000000  \n",
       "1       0.000000  \n",
       "2       0.025641  \n",
       "3       0.005848  \n",
       "4       0.047382  \n",
       "5       0.033333  \n",
       "6       0.024390  \n",
       "\n",
       "[7 rows x 103 columns]"
      ]
     },
     "execution_count": 376,
     "metadata": {},
     "output_type": "execute_result"
    }
   ],
   "source": [
    "kgroups.set_index('UNITID').groupby('Groups').mean()"
   ]
  },
  {
   "cell_type": "code",
   "execution_count": 377,
   "metadata": {},
   "outputs": [
    {
     "data": {
      "text/plain": [
       "0.0251682277165014"
      ]
     },
     "execution_count": 377,
     "metadata": {},
     "output_type": "execute_result"
    }
   ],
   "source": [
    "silhouette_score(X, k_groups)"
   ]
  },
  {
   "cell_type": "code",
   "execution_count": 361,
   "metadata": {},
   "outputs": [
    {
     "data": {
      "text/plain": [
       "<matplotlib.axes._subplots.AxesSubplot at 0x2691ef56748>"
      ]
     },
     "execution_count": 361,
     "metadata": {},
     "output_type": "execute_result"
    },
    {
     "data": {
      "image/png": "[encoded data removed]",
      "text/plain": [
       "<Figure size 720x720 with 2 Axes>"
      ]
     },
     "metadata": {},
     "output_type": "display_data"
    }
   ],
   "source": [
    "fig, ax = plt.subplots(figsize = (10, 10))\n",
    "sns.heatmap(k_corr.corr().iloc[:-len(np.unique(k_groups)),-len(np.unique(k_groups)):], ax = ax)"
   ]
  },
  {
   "cell_type": "code",
   "execution_count": 395,
   "metadata": {},
   "outputs": [],
   "source": [
    "silhouettes = {}\n",
    "for n in np.arange(3, 15) :\n",
    "    pipe = Pipeline([('scale', StandardScaler()),\n",
    "             ('cluster', KMeans(n_clusters = n))])\n",
    "    pipe_groups = pipe.fit_predict(X)\n",
    "    silhouettes[n] = silhouette_score(X, pipe_groups)"
   ]
  },
  {
   "cell_type": "code",
   "execution_count": 396,
   "metadata": {},
   "outputs": [
    {
     "data": {
      "image/png": "[encoded data removed]",
      "text/plain": [
       "<Figure size 432x288 with 1 Axes>"
      ]
     },
     "metadata": {},
     "output_type": "display_data"
    }
   ],
   "source": [
    "fig, ax = plt.subplots()\n",
    "for k, v in silhouettes.items() :\n",
    "    ax.barh(k, v)\n",
    "ax.set_xlim(-1, 1)\n",
    "ax.set_ylabel('Num clusters')\n",
    "ax.set_xlabel('Silhouette score')\n",
    "plt.show()"
   ]
  },
  {
   "cell_type": "code",
   "execution_count": 397,
   "metadata": {},
   "outputs": [],
   "source": [
    "sample_weights_kmeans = np.ones(len(X.columns))\n",
    "sample_weights_kmeans[-12:] = 1/len(X.columns[-12:])\n",
    "X_weighted = X * sample_weights_kmeans"
   ]
  },
  {
   "cell_type": "code",
   "execution_count": 398,
   "metadata": {},
   "outputs": [],
   "source": [
    "silhouettes_weighted = {}\n",
    "for n in np.arange(3, 15) :\n",
    "    pipe = Pipeline([('scale', StandardScaler()),\n",
    "             ('cluster', KMeans(n_clusters = n))])\n",
    "    pipe_groups = pipe.fit_predict(X_weighted)\n",
    "    silhouettes_weighted[n] = silhouette_score(X_weighted, pipe_groups)"
   ]
  },
  {
   "cell_type": "code",
   "execution_count": 399,
   "metadata": {},
   "outputs": [
    {
     "data": {
      "image/png": "[encoded data removed]",
      "text/plain": [
       "<Figure size 432x288 with 1 Axes>"
      ]
     },
     "metadata": {},
     "output_type": "display_data"
    }
   ],
   "source": [
    "fig, ax = plt.subplots()\n",
    "for k, v in silhouettes_weighted.items() :\n",
    "    ax.barh(k, v)\n",
    "ax.set_xlim(-1, 1)\n",
    "ax.set_ylabel('Num clusters')\n",
    "ax.set_xlabel('Silhouette score (weighted)')\n",
    "plt.show()"
   ]
  },
  {
   "cell_type": "markdown",
   "metadata": {},
   "source": [
    "<b>MEAN SHIFT</b>"
   ]
  },
  {
   "cell_type": "code",
   "execution_count": 378,
   "metadata": {},
   "outputs": [],
   "source": [
    "ms = Pipeline([('scale', StandardScaler()),\n",
    "             ('cluster', MeanShift())])"
   ]
  },
  {
   "cell_type": "code",
   "execution_count": 379,
   "metadata": {},
   "outputs": [],
   "source": [
    "blobs = ms.fit_predict(X)"
   ]
  },
  {
   "cell_type": "code",
   "execution_count": 380,
   "metadata": {},
   "outputs": [],
   "source": [
    "blobber = cluster_test_set.copy()"
   ]
  },
  {
   "cell_type": "code",
   "execution_count": 381,
   "metadata": {},
   "outputs": [
    {
     "data": {
      "text/plain": [
       "0    1293\n",
       "1      35\n",
       "2       2\n",
       "3       1\n",
       "4       1\n",
       "5       1\n",
       "6       2\n",
       "7       2\n",
       "8      11\n",
       "9       1\n",
       "Name: Blobs, dtype: int64"
      ]
     },
     "execution_count": 381,
     "metadata": {},
     "output_type": "execute_result"
    }
   ],
   "source": [
    "blobber['Blobs'] = blobs\n",
    "blobber['Blobs'].value_counts().sort_index()"
   ]
  },
  {
   "cell_type": "code",
   "execution_count": 382,
   "metadata": {},
   "outputs": [],
   "source": [
    "blob_corr = pd.concat([blobber, pd.get_dummies(blobber['Blobs'])], axis = 1)"
   ]
  },
  {
   "cell_type": "code",
   "execution_count": 383,
   "metadata": {},
   "outputs": [],
   "source": [
    "blob_corr = blob_corr.drop('Blobs', axis = 1)"
   ]
  },
  {
   "cell_type": "code",
   "execution_count": 384,
   "metadata": {},
   "outputs": [
    {
     "data": {
      "text/html": [
       "<div>\n",
       "<style scoped>\n",
       "    .dataframe tbody tr th:only-of-type {\n",
       "        vertical-align: middle;\n",
       "    }\n",
       "\n",
       "    .dataframe tbody tr th {\n",
       "        vertical-align: top;\n",
       "    }\n",
       "\n",
       "    .dataframe thead th {\n",
       "        text-align: right;\n",
       "    }\n",
       "</style>\n",
       "<table border=\"1\" class=\"dataframe\">\n",
       "  <thead>\n",
       "    <tr style=\"text-align: right;\">\n",
       "      <th></th>\n",
       "      <th>UNITID</th>\n",
       "      <th>INEXPFTE</th>\n",
       "      <th>AVGFACSAL</th>\n",
       "      <th>PFTFAC</th>\n",
       "      <th>TUITIONFEE_IN</th>\n",
       "      <th>TUITIONFEE_OUT</th>\n",
       "      <th>Deg_created_5yrs</th>\n",
       "      <th>Deg_removed_5yr</th>\n",
       "      <th>Deg_created_10yrs</th>\n",
       "      <th>Deg_removed_10yr</th>\n",
       "      <th>...</th>\n",
       "      <th>13.0</th>\n",
       "      <th>21.0</th>\n",
       "      <th>22.0</th>\n",
       "      <th>23.0</th>\n",
       "      <th>31.0</th>\n",
       "      <th>32.0</th>\n",
       "      <th>33.0</th>\n",
       "      <th>41.0</th>\n",
       "      <th>42.0</th>\n",
       "      <th>43.0</th>\n",
       "    </tr>\n",
       "    <tr>\n",
       "      <th>Blobs</th>\n",
       "      <th></th>\n",
       "      <th></th>\n",
       "      <th></th>\n",
       "      <th></th>\n",
       "      <th></th>\n",
       "      <th></th>\n",
       "      <th></th>\n",
       "      <th></th>\n",
       "      <th></th>\n",
       "      <th></th>\n",
       "      <th></th>\n",
       "      <th></th>\n",
       "      <th></th>\n",
       "      <th></th>\n",
       "      <th></th>\n",
       "      <th></th>\n",
       "      <th></th>\n",
       "      <th></th>\n",
       "      <th></th>\n",
       "      <th></th>\n",
       "      <th></th>\n",
       "    </tr>\n",
       "  </thead>\n",
       "  <tbody>\n",
       "    <tr>\n",
       "      <th>0</th>\n",
       "      <td>1.079614e+06</td>\n",
       "      <td>6986.132251</td>\n",
       "      <td>6474.577340</td>\n",
       "      <td>0.483188</td>\n",
       "      <td>3531.161640</td>\n",
       "      <td>7764.566899</td>\n",
       "      <td>5.654292</td>\n",
       "      <td>9.834493</td>\n",
       "      <td>7.873937</td>\n",
       "      <td>9.118329</td>\n",
       "      <td>...</td>\n",
       "      <td>0.106729</td>\n",
       "      <td>0.164733</td>\n",
       "      <td>0.033256</td>\n",
       "      <td>0.029389</td>\n",
       "      <td>0.020882</td>\n",
       "      <td>0.102088</td>\n",
       "      <td>0.100541</td>\n",
       "      <td>0.164733</td>\n",
       "      <td>0.047951</td>\n",
       "      <td>0.020882</td>\n",
       "    </tr>\n",
       "    <tr>\n",
       "      <th>1</th>\n",
       "      <td>1.303882e+07</td>\n",
       "      <td>6125.257143</td>\n",
       "      <td>6690.242857</td>\n",
       "      <td>0.401603</td>\n",
       "      <td>6207.485714</td>\n",
       "      <td>13723.400000</td>\n",
       "      <td>2.542857</td>\n",
       "      <td>3.942857</td>\n",
       "      <td>3.714286</td>\n",
       "      <td>3.828571</td>\n",
       "      <td>...</td>\n",
       "      <td>0.000000</td>\n",
       "      <td>0.000000</td>\n",
       "      <td>0.028571</td>\n",
       "      <td>0.000000</td>\n",
       "      <td>0.000000</td>\n",
       "      <td>0.142857</td>\n",
       "      <td>0.028571</td>\n",
       "      <td>0.114286</td>\n",
       "      <td>0.000000</td>\n",
       "      <td>0.028571</td>\n",
       "    </tr>\n",
       "    <tr>\n",
       "      <th>2</th>\n",
       "      <td>1.021795e+05</td>\n",
       "      <td>9155.000000</td>\n",
       "      <td>6190.750000</td>\n",
       "      <td>0.629500</td>\n",
       "      <td>6560.000000</td>\n",
       "      <td>11521.500000</td>\n",
       "      <td>1.500000</td>\n",
       "      <td>3.500000</td>\n",
       "      <td>1.000000</td>\n",
       "      <td>3.500000</td>\n",
       "      <td>...</td>\n",
       "      <td>0.000000</td>\n",
       "      <td>0.000000</td>\n",
       "      <td>0.000000</td>\n",
       "      <td>0.000000</td>\n",
       "      <td>0.000000</td>\n",
       "      <td>0.000000</td>\n",
       "      <td>0.000000</td>\n",
       "      <td>0.000000</td>\n",
       "      <td>0.000000</td>\n",
       "      <td>1.000000</td>\n",
       "    </tr>\n",
       "    <tr>\n",
       "      <th>3</th>\n",
       "      <td>1.052060e+05</td>\n",
       "      <td>4110.000000</td>\n",
       "      <td>6290.000000</td>\n",
       "      <td>0.281300</td>\n",
       "      <td>2112.000000</td>\n",
       "      <td>6972.000000</td>\n",
       "      <td>14.000000</td>\n",
       "      <td>40.000000</td>\n",
       "      <td>20.000000</td>\n",
       "      <td>17.000000</td>\n",
       "      <td>...</td>\n",
       "      <td>0.000000</td>\n",
       "      <td>0.000000</td>\n",
       "      <td>0.000000</td>\n",
       "      <td>0.000000</td>\n",
       "      <td>0.000000</td>\n",
       "      <td>0.000000</td>\n",
       "      <td>0.000000</td>\n",
       "      <td>1.000000</td>\n",
       "      <td>0.000000</td>\n",
       "      <td>0.000000</td>\n",
       "    </tr>\n",
       "    <tr>\n",
       "      <th>4</th>\n",
       "      <td>1.178030e+05</td>\n",
       "      <td>30463.000000</td>\n",
       "      <td>9860.000000</td>\n",
       "      <td>1.000000</td>\n",
       "      <td>3702.000000</td>\n",
       "      <td>7625.000000</td>\n",
       "      <td>1.000000</td>\n",
       "      <td>0.000000</td>\n",
       "      <td>0.000000</td>\n",
       "      <td>0.000000</td>\n",
       "      <td>...</td>\n",
       "      <td>0.000000</td>\n",
       "      <td>0.000000</td>\n",
       "      <td>0.000000</td>\n",
       "      <td>0.000000</td>\n",
       "      <td>0.000000</td>\n",
       "      <td>0.000000</td>\n",
       "      <td>0.000000</td>\n",
       "      <td>0.000000</td>\n",
       "      <td>0.000000</td>\n",
       "      <td>0.000000</td>\n",
       "    </tr>\n",
       "    <tr>\n",
       "      <th>5</th>\n",
       "      <td>1.509870e+05</td>\n",
       "      <td>3346.000000</td>\n",
       "      <td>5621.000000</td>\n",
       "      <td>0.263800</td>\n",
       "      <td>4175.000000</td>\n",
       "      <td>8052.000000</td>\n",
       "      <td>31.000000</td>\n",
       "      <td>6.000000</td>\n",
       "      <td>42.000000</td>\n",
       "      <td>2.000000</td>\n",
       "      <td>...</td>\n",
       "      <td>0.000000</td>\n",
       "      <td>0.000000</td>\n",
       "      <td>0.000000</td>\n",
       "      <td>0.000000</td>\n",
       "      <td>0.000000</td>\n",
       "      <td>0.000000</td>\n",
       "      <td>0.000000</td>\n",
       "      <td>0.000000</td>\n",
       "      <td>0.000000</td>\n",
       "      <td>0.000000</td>\n",
       "    </tr>\n",
       "    <tr>\n",
       "      <th>6</th>\n",
       "      <td>4.179875e+05</td>\n",
       "      <td>18630.500000</td>\n",
       "      <td>6307.500000</td>\n",
       "      <td>0.407100</td>\n",
       "      <td>9006.000000</td>\n",
       "      <td>11217.500000</td>\n",
       "      <td>0.000000</td>\n",
       "      <td>0.000000</td>\n",
       "      <td>0.500000</td>\n",
       "      <td>0.500000</td>\n",
       "      <td>...</td>\n",
       "      <td>0.000000</td>\n",
       "      <td>1.000000</td>\n",
       "      <td>0.000000</td>\n",
       "      <td>0.000000</td>\n",
       "      <td>0.000000</td>\n",
       "      <td>0.000000</td>\n",
       "      <td>0.000000</td>\n",
       "      <td>0.000000</td>\n",
       "      <td>0.000000</td>\n",
       "      <td>0.000000</td>\n",
       "    </tr>\n",
       "    <tr>\n",
       "      <th>7</th>\n",
       "      <td>3.346565e+05</td>\n",
       "      <td>5404.500000</td>\n",
       "      <td>6307.500000</td>\n",
       "      <td>0.407100</td>\n",
       "      <td>3702.000000</td>\n",
       "      <td>7625.000000</td>\n",
       "      <td>1.500000</td>\n",
       "      <td>0.000000</td>\n",
       "      <td>2.000000</td>\n",
       "      <td>0.500000</td>\n",
       "      <td>...</td>\n",
       "      <td>0.000000</td>\n",
       "      <td>0.000000</td>\n",
       "      <td>0.000000</td>\n",
       "      <td>0.000000</td>\n",
       "      <td>0.000000</td>\n",
       "      <td>0.500000</td>\n",
       "      <td>0.000000</td>\n",
       "      <td>0.000000</td>\n",
       "      <td>0.500000</td>\n",
       "      <td>0.000000</td>\n",
       "    </tr>\n",
       "    <tr>\n",
       "      <th>8</th>\n",
       "      <td>2.353289e+05</td>\n",
       "      <td>7907.000000</td>\n",
       "      <td>6354.954545</td>\n",
       "      <td>0.712109</td>\n",
       "      <td>6217.818182</td>\n",
       "      <td>7706.636364</td>\n",
       "      <td>4.909091</td>\n",
       "      <td>6.636364</td>\n",
       "      <td>7.181818</td>\n",
       "      <td>5.727273</td>\n",
       "      <td>...</td>\n",
       "      <td>0.090909</td>\n",
       "      <td>0.090909</td>\n",
       "      <td>0.000000</td>\n",
       "      <td>0.000000</td>\n",
       "      <td>0.000000</td>\n",
       "      <td>0.090909</td>\n",
       "      <td>0.181818</td>\n",
       "      <td>0.363636</td>\n",
       "      <td>0.090909</td>\n",
       "      <td>0.000000</td>\n",
       "    </tr>\n",
       "    <tr>\n",
       "      <th>9</th>\n",
       "      <td>4.462060e+05</td>\n",
       "      <td>1997.000000</td>\n",
       "      <td>6307.500000</td>\n",
       "      <td>0.407100</td>\n",
       "      <td>3702.000000</td>\n",
       "      <td>7625.000000</td>\n",
       "      <td>0.000000</td>\n",
       "      <td>0.000000</td>\n",
       "      <td>0.000000</td>\n",
       "      <td>0.000000</td>\n",
       "      <td>...</td>\n",
       "      <td>0.000000</td>\n",
       "      <td>0.000000</td>\n",
       "      <td>0.000000</td>\n",
       "      <td>0.000000</td>\n",
       "      <td>0.000000</td>\n",
       "      <td>1.000000</td>\n",
       "      <td>0.000000</td>\n",
       "      <td>0.000000</td>\n",
       "      <td>0.000000</td>\n",
       "      <td>0.000000</td>\n",
       "    </tr>\n",
       "  </tbody>\n",
       "</table>\n",
       "<p>10 rows × 104 columns</p>\n",
       "</div>"
      ],
      "text/plain": [
       "             UNITID      INEXPFTE    AVGFACSAL    PFTFAC  TUITIONFEE_IN  \\\n",
       "Blobs                                                                     \n",
       "0      1.079614e+06   6986.132251  6474.577340  0.483188    3531.161640   \n",
       "1      1.303882e+07   6125.257143  6690.242857  0.401603    6207.485714   \n",
       "2      1.021795e+05   9155.000000  6190.750000  0.629500    6560.000000   \n",
       "3      1.052060e+05   4110.000000  6290.000000  0.281300    2112.000000   \n",
       "4      1.178030e+05  30463.000000  9860.000000  1.000000    3702.000000   \n",
       "5      1.509870e+05   3346.000000  5621.000000  0.263800    4175.000000   \n",
       "6      4.179875e+05  18630.500000  6307.500000  0.407100    9006.000000   \n",
       "7      3.346565e+05   5404.500000  6307.500000  0.407100    3702.000000   \n",
       "8      2.353289e+05   7907.000000  6354.954545  0.712109    6217.818182   \n",
       "9      4.462060e+05   1997.000000  6307.500000  0.407100    3702.000000   \n",
       "\n",
       "       TUITIONFEE_OUT  Deg_created_5yrs  Deg_removed_5yr  Deg_created_10yrs  \\\n",
       "Blobs                                                                         \n",
       "0         7764.566899          5.654292         9.834493           7.873937   \n",
       "1        13723.400000          2.542857         3.942857           3.714286   \n",
       "2        11521.500000          1.500000         3.500000           1.000000   \n",
       "3         6972.000000         14.000000        40.000000          20.000000   \n",
       "4         7625.000000          1.000000         0.000000           0.000000   \n",
       "5         8052.000000         31.000000         6.000000          42.000000   \n",
       "6        11217.500000          0.000000         0.000000           0.500000   \n",
       "7         7625.000000          1.500000         0.000000           2.000000   \n",
       "8         7706.636364          4.909091         6.636364           7.181818   \n",
       "9         7625.000000          0.000000         0.000000           0.000000   \n",
       "\n",
       "       Deg_removed_10yr    ...         13.0      21.0      22.0      23.0  \\\n",
       "Blobs                      ...                                              \n",
       "0              9.118329    ...     0.106729  0.164733  0.033256  0.029389   \n",
       "1              3.828571    ...     0.000000  0.000000  0.028571  0.000000   \n",
       "2              3.500000    ...     0.000000  0.000000  0.000000  0.000000   \n",
       "3             17.000000    ...     0.000000  0.000000  0.000000  0.000000   \n",
       "4              0.000000    ...     0.000000  0.000000  0.000000  0.000000   \n",
       "5              2.000000    ...     0.000000  0.000000  0.000000  0.000000   \n",
       "6              0.500000    ...     0.000000  1.000000  0.000000  0.000000   \n",
       "7              0.500000    ...     0.000000  0.000000  0.000000  0.000000   \n",
       "8              5.727273    ...     0.090909  0.090909  0.000000  0.000000   \n",
       "9              0.000000    ...     0.000000  0.000000  0.000000  0.000000   \n",
       "\n",
       "           31.0      32.0      33.0      41.0      42.0      43.0  \n",
       "Blobs                                                              \n",
       "0      0.020882  0.102088  0.100541  0.164733  0.047951  0.020882  \n",
       "1      0.000000  0.142857  0.028571  0.114286  0.000000  0.028571  \n",
       "2      0.000000  0.000000  0.000000  0.000000  0.000000  1.000000  \n",
       "3      0.000000  0.000000  0.000000  1.000000  0.000000  0.000000  \n",
       "4      0.000000  0.000000  0.000000  0.000000  0.000000  0.000000  \n",
       "5      0.000000  0.000000  0.000000  0.000000  0.000000  0.000000  \n",
       "6      0.000000  0.000000  0.000000  0.000000  0.000000  0.000000  \n",
       "7      0.000000  0.500000  0.000000  0.000000  0.500000  0.000000  \n",
       "8      0.000000  0.090909  0.181818  0.363636  0.090909  0.000000  \n",
       "9      0.000000  1.000000  0.000000  0.000000  0.000000  0.000000  \n",
       "\n",
       "[10 rows x 104 columns]"
      ]
     },
     "execution_count": 384,
     "metadata": {},
     "output_type": "execute_result"
    }
   ],
   "source": [
    "blobber.groupby('Blobs').mean()"
   ]
  },
  {
   "cell_type": "code",
   "execution_count": 385,
   "metadata": {},
   "outputs": [
    {
     "data": {
      "text/plain": [
       "-0.3074151451117953"
      ]
     },
     "execution_count": 385,
     "metadata": {},
     "output_type": "execute_result"
    }
   ],
   "source": [
    "silhouette_score(X, blobs)"
   ]
  },
  {
   "cell_type": "code",
   "execution_count": null,
   "metadata": {},
   "outputs": [],
   "source": []
  },
  {
   "cell_type": "markdown",
   "metadata": {},
   "source": [
    "<b>TSNE</b>"
   ]
  },
  {
   "cell_type": "code",
   "execution_count": 319,
   "metadata": {},
   "outputs": [],
   "source": [
    "tsne_array = scale(X)"
   ]
  },
  {
   "cell_type": "code",
   "execution_count": 320,
   "metadata": {},
   "outputs": [],
   "source": [
    "tsne_model = TSNE(learning_rate = 100)"
   ]
  },
  {
   "cell_type": "code",
   "execution_count": 322,
   "metadata": {},
   "outputs": [],
   "source": [
    "plot_samples = tsne_model.fit_transform(tsne_array)"
   ]
  },
  {
   "cell_type": "code",
   "execution_count": 400,
   "metadata": {},
   "outputs": [
    {
     "data": {
      "image/png": "[encoded data removed]",
      "text/plain": [
       "<Figure size 864x864 with 1 Axes>"
      ]
     },
     "metadata": {},
     "output_type": "display_data"
    }
   ],
   "source": [
    "fig, ax = plt.subplots(figsize = (12, 12))\n",
    "labels = k_groups #blobs\n",
    "legend_labels = np.unique(labels)\n",
    "mark = 20\n",
    "colors = ['r', 'g', 'b', 'c', 'm', 'k', 'y', 'orange', 'crimson', 'magenta', 'darkgrey', 'tan', 'lightpink', 'lime']\n",
    "handles_dict = {}\n",
    "for i in range(len(legend_labels)) :\n",
    "    k = 'dot_' + str(i)\n",
    "    handles_dict[k] = mlines.Line2D([], [], linestyle = 'None', color=colors[legend_labels[i]], marker='.', markersize=mark, label=legend_labels[i])\n",
    "for i in range(len(plot_samples)) :\n",
    "    ax.scatter(plot_samples[i, 0], plot_samples[i, 1], c = colors[labels[i]], alpha = 0.5)\n",
    "plt.legend(handles=[v for k, v in handles_dict.items()])\n",
    "plt.show()"
   ]
  },
  {
   "cell_type": "code",
   "execution_count": 343,
   "metadata": {},
   "outputs": [],
   "source": [
    "writer = pd.ExcelWriter('C:/Users/jbachlombardo/Documents/Community Colleges/Data/Clustering results/kmeans_3groups_051619.xlsx')\n",
    "kgroups.to_excel(writer, sheet_name = 'Groups - raw')\n",
    "kgroups.set_index('UNITID').groupby('Groups').mean().to_excel(writer, sheet_name = 'Groups - averages')\n",
    "writer.close()"
   ]
  },
  {
   "cell_type": "code",
   "execution_count": null,
   "metadata": {},
   "outputs": [],
   "source": []
  }
 ],
 "metadata": {
  "kernelspec": {
   "display_name": "Python 3",
   "language": "python",
   "name": "python3"
  },
  "language_info": {
   "codemirror_mode": {
    "name": "ipython",
    "version": 3
   },
   "file_extension": ".py",
   "mimetype": "text/x-python",
   "name": "python",
   "nbconvert_exporter": "python",
   "pygments_lexer": "ipython3",
   "version": "3.6.5"
  }
 },
 "nbformat": 4,
 "nbformat_minor": 2
}
