{
 "cells": [
  {
   "cell_type": "code",
   "execution_count": 1,
   "metadata": {},
   "outputs": [],
   "source": [
    "import pandas as pd\n",
    "import numpy as np\n",
    "import matplotlib.pyplot as plt"
   ]
  },
  {
   "cell_type": "code",
   "execution_count": 2,
   "metadata": {},
   "outputs": [],
   "source": [
    "sixdig_grads = pd.read_csv('C:/Users/jbachlombardo/Documents/Community Colleges/Data/IPEDS/c2017_a.csv')"
   ]
  },
  {
   "cell_type": "code",
   "execution_count": 3,
   "metadata": {},
   "outputs": [],
   "source": [
    "df_geo = pd.read_csv('C:/Users/jbachlombardo/Documents/Community Colleges/Data/College scorecard/CollegeScorecard_Raw_Data/df_geo_all_REDONE START FROM HERE.csv')"
   ]
  },
  {
   "cell_type": "code",
   "execution_count": 4,
   "metadata": {},
   "outputs": [
    {
     "data": {
      "text/plain": [
       "1349"
      ]
     },
     "execution_count": 4,
     "metadata": {},
     "output_type": "execute_result"
    }
   ],
   "source": [
    "cc_ids = list(df_geo['UNITID'].unique())\n",
    "len(cc_ids)"
   ]
  },
  {
   "cell_type": "code",
   "execution_count": 5,
   "metadata": {},
   "outputs": [
    {
     "data": {
      "text/plain": [
       "6788"
      ]
     },
     "execution_count": 5,
     "metadata": {},
     "output_type": "execute_result"
    }
   ],
   "source": [
    "sixdig_ids = list(sixdig_grads['UNITID'].unique())\n",
    "len(sixdig_ids)"
   ]
  },
  {
   "cell_type": "code",
   "execution_count": 6,
   "metadata": {},
   "outputs": [],
   "source": [
    "isin = list()\n",
    "notin = list()\n",
    "for c in cc_ids :\n",
    "    if c in sixdig_ids :\n",
    "        isin.append(c)\n",
    "    else :\n",
    "        notin.append(c)"
   ]
  },
  {
   "cell_type": "code",
   "execution_count": 7,
   "metadata": {},
   "outputs": [],
   "source": [
    "cc_df_from_ipeds = sixdig_grads[(sixdig_grads['AWLEVEL'] < 4) & sixdig_grads['UNITID'].isin(cc_ids)]"
   ]
  },
  {
   "cell_type": "code",
   "execution_count": 8,
   "metadata": {},
   "outputs": [
    {
     "data": {
      "text/plain": [
       "99.0000    3231\n",
       "48.0508    1360\n",
       "52.0201    1339\n",
       "47.0604    1307\n",
       "52.0401    1189\n",
       "51.0904    1084\n",
       "52.0302    1025\n",
       "24.0101    1002\n",
       "51.3901     896\n",
       "43.0107     844\n",
       "51.3801     833\n",
       "19.0709     810\n",
       "11.0901     787\n",
       "47.0201     776\n",
       "51.0801     749\n",
       "13.1210     648\n",
       "12.0401     619\n",
       "15.0303     605\n",
       "46.0302     601\n",
       "47.0603     587\n",
       "22.0302     564\n",
       "52.0301     563\n",
       "15.1301     553\n",
       "11.0801     549\n",
       "11.0101     536\n",
       "52.0101     519\n",
       "24.0102     513\n",
       "12.0503     501\n",
       "11.0201     500\n",
       "51.0707     485\n",
       "           ... \n",
       "14.0805       1\n",
       "26.1304       1\n",
       "1.0902        1\n",
       "51.2008       1\n",
       "3.0206        1\n",
       "52.1302       1\n",
       "14.4101       1\n",
       "4.0301        1\n",
       "5.0208        1\n",
       "51.3704       1\n",
       "12.0510       1\n",
       "41.0299       1\n",
       "39.0604       1\n",
       "47.0612       1\n",
       "51.3814       1\n",
       "26.1501       1\n",
       "50.0507       1\n",
       "14.2001       1\n",
       "52.1901       1\n",
       "27.0501       1\n",
       "54.0102       1\n",
       "26.0901       1\n",
       "16.1408       1\n",
       "30.3201       1\n",
       "40.0510       1\n",
       "46.0410       1\n",
       "54.0105       1\n",
       "45.1099       1\n",
       "3.0502        1\n",
       "16.0104       1\n",
       "Name: CIPCODE, Length: 985, dtype: int64"
      ]
     },
     "execution_count": 8,
     "metadata": {},
     "output_type": "execute_result"
    }
   ],
   "source": [
    "cc_df_from_ipeds['CIPCODE'].value_counts()"
   ]
  },
  {
   "cell_type": "code",
   "execution_count": null,
   "metadata": {},
   "outputs": [],
   "source": []
  }
 ],
 "metadata": {
  "kernelspec": {
   "display_name": "Python 3",
   "language": "python",
   "name": "python3"
  },
  "language_info": {
   "codemirror_mode": {
    "name": "ipython",
    "version": 3
   },
   "file_extension": ".py",
   "mimetype": "text/x-python",
   "name": "python",
   "nbconvert_exporter": "python",
   "pygments_lexer": "ipython3",
   "version": "3.6.5"
  }
 },
 "nbformat": 4,
 "nbformat_minor": 2
}
