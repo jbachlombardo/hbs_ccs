{
 "cells": [
  {
   "cell_type": "code",
   "execution_count": 1,
   "metadata": {},
   "outputs": [],
   "source": [
    "import pandas as pd\n",
    "import numpy as np"
   ]
  },
  {
   "cell_type": "code",
   "execution_count": 23,
   "metadata": {},
   "outputs": [],
   "source": [
    "crosswalk = pd.read_csv('C:/Users/jbachlombardo/Documents/Community Colleges/Data/ZIP-COUNTY-FIPS_2017-06.csv')"
   ]
  },
  {
   "cell_type": "code",
   "execution_count": 26,
   "metadata": {},
   "outputs": [],
   "source": [
    "zip_county_map = pd.Series(crosswalk['COUNTYNAME'].values, index = crosswalk['ZIP'].values).to_dict()"
   ]
  },
  {
   "cell_type": "code",
   "execution_count": 27,
   "metadata": {},
   "outputs": [],
   "source": [
    "zip_fips_map = pd.Series(crosswalk['STCOUNTYFP'].values, index = crosswalk['ZIP'].values).to_dict()"
   ]
  },
  {
   "cell_type": "code",
   "execution_count": 28,
   "metadata": {},
   "outputs": [],
   "source": [
    "merged_all = pd.read_csv('C:/Users/jbachlombardo/Documents/Community Colleges/Data/College scorecard/CollegeScorecard_Raw_Data/merged_all_scorecard_indicators_longitudinal_zips_RESET FROM HERE 42919.csv')"
   ]
  },
  {
   "cell_type": "code",
   "execution_count": 35,
   "metadata": {},
   "outputs": [],
   "source": [
    "merged_all['County'] = merged_all['Zipcodes'].map(zip_county_map)"
   ]
  },
  {
   "cell_type": "code",
   "execution_count": 39,
   "metadata": {},
   "outputs": [],
   "source": [
    "merged_all['FIPS'] = merged_all['Zipcodes'].map(zip_fips_map)"
   ]
  },
  {
   "cell_type": "code",
   "execution_count": 41,
   "metadata": {},
   "outputs": [],
   "source": [
    "merged_all.to_csv('C:/Users/jbachlombardo/Documents/Community Colleges/Data/College scorecard/CollegeScorecard_Raw_Data/merged_all_scorecard_indicators_longitudinal_zips_RESET FROM HERE 42919.csv')"
   ]
  },
  {
   "cell_type": "code",
   "execution_count": 48,
   "metadata": {},
   "outputs": [
    {
     "data": {
      "text/html": [
       "<div>\n",
       "<style scoped>\n",
       "    .dataframe tbody tr th:only-of-type {\n",
       "        vertical-align: middle;\n",
       "    }\n",
       "\n",
       "    .dataframe tbody tr th {\n",
       "        vertical-align: top;\n",
       "    }\n",
       "\n",
       "    .dataframe thead th {\n",
       "        text-align: right;\n",
       "    }\n",
       "</style>\n",
       "<table border=\"1\" class=\"dataframe\">\n",
       "  <thead>\n",
       "    <tr style=\"text-align: right;\">\n",
       "      <th></th>\n",
       "      <th>UNITID</th>\n",
       "      <th>INSTNM</th>\n",
       "      <th>STABBR</th>\n",
       "      <th>Zipcodes</th>\n",
       "      <th>County</th>\n",
       "      <th>FIPS</th>\n",
       "    </tr>\n",
       "  </thead>\n",
       "  <tbody>\n",
       "    <tr>\n",
       "      <th>47</th>\n",
       "      <td>106999</td>\n",
       "      <td>University of Arkansas Community College-Bates...</td>\n",
       "      <td>AR</td>\n",
       "      <td>72503</td>\n",
       "      <td>NaN</td>\n",
       "      <td>NaN</td>\n",
       "    </tr>\n",
       "    <tr>\n",
       "      <th>285</th>\n",
       "      <td>146685</td>\n",
       "      <td>Lincoln Land Community College</td>\n",
       "      <td>IL</td>\n",
       "      <td>62794</td>\n",
       "      <td>NaN</td>\n",
       "      <td>NaN</td>\n",
       "    </tr>\n",
       "    <tr>\n",
       "      <th>632</th>\n",
       "      <td>198817</td>\n",
       "      <td>Lenoir Community College</td>\n",
       "      <td>NC</td>\n",
       "      <td>28502</td>\n",
       "      <td>NaN</td>\n",
       "      <td>NaN</td>\n",
       "    </tr>\n",
       "    <tr>\n",
       "      <th>970</th>\n",
       "      <td>243638</td>\n",
       "      <td>College of Micronesia-FSM</td>\n",
       "      <td>FM</td>\n",
       "      <td>96941</td>\n",
       "      <td>NaN</td>\n",
       "      <td>NaN</td>\n",
       "    </tr>\n",
       "    <tr>\n",
       "      <th>971</th>\n",
       "      <td>243647</td>\n",
       "      <td>Palau Community College</td>\n",
       "      <td>PW</td>\n",
       "      <td>96940</td>\n",
       "      <td>NaN</td>\n",
       "      <td>NaN</td>\n",
       "    </tr>\n",
       "    <tr>\n",
       "      <th>1048</th>\n",
       "      <td>376695</td>\n",
       "      <td>College of the Marshall Islands</td>\n",
       "      <td>MH</td>\n",
       "      <td>96960</td>\n",
       "      <td>NaN</td>\n",
       "      <td>NaN</td>\n",
       "    </tr>\n",
       "  </tbody>\n",
       "</table>\n",
       "</div>"
      ],
      "text/plain": [
       "      UNITID                                             INSTNM STABBR  \\\n",
       "47    106999  University of Arkansas Community College-Bates...     AR   \n",
       "285   146685                     Lincoln Land Community College     IL   \n",
       "632   198817                           Lenoir Community College     NC   \n",
       "970   243638                          College of Micronesia-FSM     FM   \n",
       "971   243647                            Palau Community College     PW   \n",
       "1048  376695                    College of the Marshall Islands     MH   \n",
       "\n",
       "      Zipcodes County  FIPS  \n",
       "47       72503    NaN   NaN  \n",
       "285      62794    NaN   NaN  \n",
       "632      28502    NaN   NaN  \n",
       "970      96941    NaN   NaN  \n",
       "971      96940    NaN   NaN  \n",
       "1048     96960    NaN   NaN  "
      ]
     },
     "execution_count": 48,
     "metadata": {},
     "output_type": "execute_result"
    }
   ],
   "source": [
    "#FIXED MANUALLY\n",
    "merged_all[merged_all['FIPS'].isnull()][['UNITID', 'INSTNM', 'STABBR', 'Zipcodes', 'County', 'FIPS']]"
   ]
  },
  {
   "cell_type": "code",
   "execution_count": 51,
   "metadata": {},
   "outputs": [],
   "source": [
    "fips_couny_map = pd.Series(crosswalk['STCOUNTYFP'].values, index = crosswalk['COUNTYNAME'].values).to_dict()"
   ]
  },
  {
   "cell_type": "code",
   "execution_count": null,
   "metadata": {},
   "outputs": [],
   "source": []
  }
 ],
 "metadata": {
  "kernelspec": {
   "display_name": "Python 3",
   "language": "python",
   "name": "python3"
  },
  "language_info": {
   "codemirror_mode": {
    "name": "ipython",
    "version": 3
   },
   "file_extension": ".py",
   "mimetype": "text/x-python",
   "name": "python",
   "nbconvert_exporter": "python",
   "pygments_lexer": "ipython3",
   "version": "3.6.5"
  }
 },
 "nbformat": 4,
 "nbformat_minor": 2
}
